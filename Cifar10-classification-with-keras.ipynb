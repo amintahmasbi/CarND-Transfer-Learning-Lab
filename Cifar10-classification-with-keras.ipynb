{
 "cells": [
  {
   "cell_type": "markdown",
   "metadata": {},
   "source": [
    "# Cifar10 Classification with Keras\n",
    "\n",
    "Keras exists to make coding deep neural networks simpler. To demonstrate just how easy it is, you’re going to use Keras to build a convolutional neural network in a few dozen lines of code.\n",
    "\n",
    "You’ll be connecting the concepts from the previous lessons to the methods that Keras provides."
   ]
  },
  {
   "cell_type": "markdown",
   "metadata": {},
   "source": [
    "## Overview\n",
    "\n",
    "Here are the steps you'll take to build the network:\n",
    "\n",
    "1. Load the training data.\n",
    "2. Preprocess the data.\n",
    "3. Build a feedforward neural network to classify traffic signs.\n",
    "4. Build a convolutional neural network to classify traffic signs.\n",
    "5. Evaluate the final neural network on testing data.\n",
    "\n"
   ]
  },
  {
   "cell_type": "code",
   "execution_count": 1,
   "metadata": {
    "collapsed": false
   },
   "outputs": [
    {
     "name": "stdout",
     "output_type": "stream",
     "text": [
      "Modules loaded.\n"
     ]
    }
   ],
   "source": [
    "import pickle\n",
    "import numpy as np\n",
    "import math\n",
    "\n",
    "# Fix error with TF and Keras\n",
    "import tensorflow as tf\n",
    "tf.python.control_flow_ops = tf\n",
    "\n",
    "print('Modules loaded.')"
   ]
  },
  {
   "cell_type": "markdown",
   "metadata": {},
   "source": [
    "## Load the Data\n",
    "\n",
    "Start by importing the data from the pickle file."
   ]
  },
  {
   "cell_type": "code",
   "execution_count": 22,
   "metadata": {
    "collapsed": false
   },
   "outputs": [],
   "source": [
    "#load cifar10 to check the performance\n",
    "from keras.datasets import cifar10\n",
    "(X_train, y_train), (X_test, y_test) = cifar10.load_data()"
   ]
  },
  {
   "cell_type": "markdown",
   "metadata": {},
   "source": [
    "## Preprocess the Data\n",
    "\n",
    "1. Shuffle the data\n",
    "2. Normalize the features using Min-Max scaling between -0.5 and 0.5\n",
    "3. One-Hot Encode the labels\n",
    "\n",
    "### Shuffle the data\n",
    "Hint: You can use the [scikit-learn shuffle](http://scikit-learn.org/stable/modules/generated/sklearn.utils.shuffle.html) function to shuffle the data."
   ]
  },
  {
   "cell_type": "code",
   "execution_count": 4,
   "metadata": {
    "collapsed": false
   },
   "outputs": [],
   "source": [
    "# TODO: Shuffle the data\n",
    "from sklearn.utils import shuffle\n",
    "\n",
    "X_train, y_train = shuffle(X_train, y_train)\n"
   ]
  },
  {
   "cell_type": "markdown",
   "metadata": {},
   "source": [
    "### Normalize the features\n",
    "Hint: You solved this in [TensorFlow lab](https://github.com/udacity/CarND-TensorFlow-Lab/blob/master/lab.ipynb) Problem 1."
   ]
  },
  {
   "cell_type": "code",
   "execution_count": 5,
   "metadata": {
    "collapsed": false
   },
   "outputs": [],
   "source": [
    "# TODO: Normalize the data features to the variable X_normalized\n",
    "\n",
    "def normalize_minmax_scale(image_data,feature_range):\n",
    "    \"\"\"\n",
    "    Normalize the image data with Min-Max scaling\n",
    "    :param image_data: The image data to be normalized\n",
    "    :param range: range of output features\n",
    "    :return: Normalized image data\n",
    "    \"\"\"\n",
    "    a, b = feature_range\n",
    "    RGB_min = 0\n",
    "    RGB_max = 255\n",
    "    return a + ( ( (image_data - RGB_min)*(b - a) )/( RGB_max - RGB_min ) )\n",
    "\n",
    "min_max_range = (-0.5,0.5)\n",
    "X_normalized = normalize_minmax_scale(X_train,min_max_range)\n",
    "\n"
   ]
  },
  {
   "cell_type": "code",
   "execution_count": 6,
   "metadata": {
    "collapsed": false
   },
   "outputs": [
    {
     "name": "stdout",
     "output_type": "stream",
     "text": [
      "Tests passed.\n"
     ]
    }
   ],
   "source": [
    "# STOP: Do not change the tests below. Your implementation should pass these tests. \n",
    "assert math.isclose(np.min(X_normalized), -0.5, abs_tol=1e-5) and math.isclose(np.max(X_normalized), 0.5, abs_tol=1e-5), 'The range of the training data is: {} to {}.  It must be -0.5 to 0.5'.format(np.min(X_normalized), np.max(X_normalized))\n",
    "print('Tests passed.')"
   ]
  },
  {
   "cell_type": "markdown",
   "metadata": {},
   "source": [
    "### One-Hot Encode the labels\n",
    "Hint: You can use the [scikit-learn LabelBinarizer](http://scikit-learn.org/stable/modules/generated/sklearn.preprocessing.LabelBinarizer.html) function to one-hot encode the labels."
   ]
  },
  {
   "cell_type": "code",
   "execution_count": 8,
   "metadata": {
    "collapsed": false
   },
   "outputs": [],
   "source": [
    "# TODO: One Hot encode the labels to the variable y_one_hot\n",
    "from sklearn.preprocessing import LabelBinarizer\n",
    "\n",
    "lb = LabelBinarizer()\n",
    "y_one_hot = lb.fit_transform(y_train)\n"
   ]
  },
  {
   "cell_type": "markdown",
   "metadata": {},
   "source": [
    "## Keras Sequential Model\n",
    "```python\n",
    "from keras.models import Sequential\n",
    "\n",
    "# Create the Sequential model\n",
    "model = Sequential()\n",
    "```\n",
    "The `keras.models.Sequential` class is a wrapper for the neural network model. Just like many of the class models in scikit-learn, it provides common functions like `fit()`, `evaluate()`, and `compile()`.  We'll cover these functions as we get to them.  Let's start looking at the layers of the model.\n",
    "\n",
    "## Keras Layer\n",
    "A Keras layer is just like a neural network layer.  It can be fully connected, max pool, activation, etc.  You can add a layer to the model using the model's `add()` function.  For example, a simple model would look like this:\n",
    "```python\n",
    "from keras.models import Sequential\n",
    "from keras.layers.core import Dense, Activation, Flatten\n",
    "\n",
    "# Create the Sequential model\n",
    "model = Sequential()\n",
    "\n",
    "# 1st Layer - Add a flatten layer\n",
    "model.add(Flatten(input_shape=(32, 32, 3)))\n",
    "\n",
    "# 2nd Layer - Add a fully connected layer\n",
    "model.add(Dense(100))\n",
    "\n",
    "# 3rd Layer - Add a ReLU activation layer\n",
    "model.add(Activation('relu'))\n",
    "\n",
    "# 4th Layer - Add a fully connected layer\n",
    "model.add(Dense(60))\n",
    "\n",
    "# 5th Layer - Add a ReLU activation layer\n",
    "model.add(Activation('relu'))\n",
    "```\n",
    "Keras will automatically infer the shape of all layers after the first layer.  This means you only have to set the input dimensions for the first layer.\n",
    "\n",
    "The first layer from above, `model.add(Flatten(input_shape=(32, 32, 3)))`, sets the input dimension to (32, 32, 3) and output dimension to (3072=32\\*32\\*3).  The second layer takes in the output of the first layer and sets the output dimenions to (100).  This chain of passing output to the next layer continues until the last layer, which is the output of the model."
   ]
  },
  {
   "cell_type": "markdown",
   "metadata": {},
   "source": [
    "## Build a Multi-Layer Feedforward Network\n",
    "\n",
    "Build a multi-layer feedforward neural network to classify the traffic sign images.\n",
    "\n",
    "1. Set the first layer to a `Flatten` layer with the `input_shape` set to (32, 32, 3)\n",
    "2. Set the second layer to `Dense` layer width to 128 output. \n",
    "3. Use a ReLU activation function after the second layer.\n",
    "4. Set the output layer width to 10, since there are 10 classes in the dataset.\n",
    "5. Use a softmax activation function after the output layer.\n",
    "\n",
    "To get started, review the Keras documentation about [models](https://keras.io/models/sequential/) and [layers](https://keras.io/layers/core/).\n",
    "\n",
    "The Keras example of a [Multi-Layer Perceptron](https://github.com/fchollet/keras/blob/master/examples/mnist_mlp.py) network is similar to what you need to do here. Use that as a guide, but keep in mind that there are a number of differences."
   ]
  },
  {
   "cell_type": "code",
   "execution_count": 9,
   "metadata": {
    "collapsed": false
   },
   "outputs": [],
   "source": [
    "from keras.models import Sequential\n",
    "from keras.layers import Dense, Activation, Flatten\n",
    "\n",
    "model = Sequential()\n",
    "# TODO: Build a Multi-layer feedforward neural network with Keras here.\n",
    "# 1st Layer - Add a flatten layer\n",
    "model.add(Flatten(input_shape=(32, 32, 3)))\n",
    "# 2nd Layer - Add a fully connected layer\n",
    "model.add(Dense(128))\n",
    "# 3rd Layer - Add a ReLU activation layer\n",
    "model.add(Activation('relu'))\n",
    "# 4th Layer - Add a fully connected layer\n",
    "model.add(Dense(10))\n",
    "# 5th Layer - Add a softmax activation layer\n",
    "model.add(Activation('softmax'))"
   ]
  },
  {
   "cell_type": "code",
   "execution_count": 10,
   "metadata": {
    "collapsed": false
   },
   "outputs": [
    {
     "name": "stdout",
     "output_type": "stream",
     "text": [
      "Tests passed.\n"
     ]
    }
   ],
   "source": [
    "# STOP: Do not change the tests below. Your implementation should pass these tests.\n",
    "from keras.layers.core import Dense, Activation, Flatten\n",
    "from keras.activations import relu, softmax\n",
    "\n",
    "def check_layers(layers, true_layers):\n",
    "    assert len(true_layers) != 0, 'No layers found'\n",
    "    for layer_i in range(len(layers)):\n",
    "        assert isinstance(true_layers[layer_i], layers[layer_i]), 'Layer {} is not a {} layer'.format(layer_i+1, layers[layer_i].__name__)\n",
    "    assert len(true_layers) == len(layers), '{} layers found, should be {} layers'.format(len(true_layers), len(layers))\n",
    "\n",
    "check_layers([Flatten, Dense, Activation, Dense, Activation], model.layers)\n",
    "\n",
    "assert model.layers[0].input_shape == (None, 32, 32, 3), 'First layer input shape is wrong, it should be (32, 32, 3)'\n",
    "assert model.layers[1].output_shape == (None, 128), 'Second layer output is wrong, it should be (128)'\n",
    "assert model.layers[2].activation == relu, 'Third layer not a relu activation layer'\n",
    "assert model.layers[3].output_shape == (None, 10), 'Fourth layer output is wrong, it should be (43)'\n",
    "assert model.layers[4].activation == softmax, 'Fifth layer not a softmax activation layer'\n",
    "print('Tests passed.')"
   ]
  },
  {
   "cell_type": "markdown",
   "metadata": {},
   "source": [
    "## Training a Sequential Model\n",
    "You built a multi-layer neural network in Keras, now let's look at training a neural network.\n",
    "```python\n",
    "from keras.models import Sequential\n",
    "from keras.layers.core import Dense, Activation\n",
    "\n",
    "model = Sequential()\n",
    "...\n",
    "\n",
    "# Configures the learning process and metrics\n",
    "model.compile('sgd', 'mean_squared_error', ['accuracy'])\n",
    "\n",
    "# Train the model\n",
    "# History is a record of training loss and metrics\n",
    "history = model.fit(x_train_data, Y_train_data, batch_size=128, nb_epoch=2, validation_split=0.2)\n",
    "\n",
    "# Calculate test score\n",
    "test_score = model.evaluate(x_test_data, Y_test_data)\n",
    "```\n",
    "The code above configures, trains, and tests the model.  The line `model.compile('sgd', 'mean_squared_error', ['accuracy'])` configures the model's optimizer to `'sgd'`(stochastic gradient descent), the loss to `'mean_squared_error'`, and the metric to `'accuracy'`.  \n",
    "\n",
    "You can find more optimizers [here](https://keras.io/optimizers/), loss functions [here](https://keras.io/objectives/#available-objectives), and more metrics [here](https://keras.io/metrics/#available-metrics).\n",
    "\n",
    "To train the model, use the `fit()` function as shown in `model.fit(x_train_data, Y_train_data, batch_size=128, nb_epoch=2, validation_split=0.2)`.  The `validation_split` parameter will split a percentage of the training dataset to be used to validate the model.  The model can be further tested with the test dataset using the `evaluation()` function as shown in the last line."
   ]
  },
  {
   "cell_type": "markdown",
   "metadata": {},
   "source": [
    "## Train the Network\n",
    "\n",
    "1. Compile the network using adam optimizer and categorical_crossentropy loss function.\n",
    "2. Train the network for ten epochs and validate with 20% of the training data."
   ]
  },
  {
   "cell_type": "code",
   "execution_count": 11,
   "metadata": {
    "collapsed": false
   },
   "outputs": [
    {
     "name": "stdout",
     "output_type": "stream",
     "text": [
      "Train on 40000 samples, validate on 10000 samples\n",
      "Epoch 1/10\n",
      "40000/40000 [==============================] - 66s - loss: 1.6786 - acc: 0.4124 - val_loss: 1.5862 - val_acc: 0.4415\n",
      "Epoch 2/10\n",
      "40000/40000 [==============================] - 1s - loss: 1.4741 - acc: 0.4850 - val_loss: 1.5184 - val_acc: 0.4680\n",
      "Epoch 3/10\n",
      "40000/40000 [==============================] - 1s - loss: 1.3753 - acc: 0.5227 - val_loss: 1.4855 - val_acc: 0.4840\n",
      "Epoch 4/10\n",
      "40000/40000 [==============================] - 1s - loss: 1.3116 - acc: 0.5458 - val_loss: 1.4589 - val_acc: 0.4955\n",
      "Epoch 5/10\n",
      "40000/40000 [==============================] - 1s - loss: 1.2609 - acc: 0.5639 - val_loss: 1.4601 - val_acc: 0.4986\n",
      "Epoch 6/10\n",
      "40000/40000 [==============================] - 1s - loss: 1.2081 - acc: 0.5809 - val_loss: 1.4716 - val_acc: 0.4988\n",
      "Epoch 7/10\n",
      "40000/40000 [==============================] - 1s - loss: 1.1677 - acc: 0.5952 - val_loss: 1.4585 - val_acc: 0.5072\n",
      "Epoch 8/10\n",
      "40000/40000 [==============================] - 1s - loss: 1.1306 - acc: 0.6100 - val_loss: 1.4636 - val_acc: 0.5113\n",
      "Epoch 9/10\n",
      "40000/40000 [==============================] - 1s - loss: 1.0908 - acc: 0.6227 - val_loss: 1.4719 - val_acc: 0.5049\n",
      "Epoch 10/10\n",
      "40000/40000 [==============================] - 1s - loss: 1.0637 - acc: 0.6311 - val_loss: 1.4786 - val_acc: 0.5121\n"
     ]
    }
   ],
   "source": [
    "# TODO: Compile and train the model here.\n",
    "# Configures the learning process and metrics\n",
    "model.compile('Adam', 'categorical_crossentropy', ['accuracy'])\n",
    "# History is a record of training loss and metrics\n",
    "history = model.fit(X_normalized, y_one_hot, batch_size=128, nb_epoch=10, validation_split=0.2)"
   ]
  },
  {
   "cell_type": "markdown",
   "metadata": {},
   "source": [
    "## Convolutions\n",
    "1. Re-construct the previous network\n",
    "2. Add a [convolutional layer](https://keras.io/layers/convolutional/#convolution2d) with 32 filters, a 3x3 kernel, and valid padding before the flatten layer.\n",
    "3. Add a ReLU activation after the convolutional layer.\n",
    "\n",
    "Hint 1: The Keras example of a [convolutional neural network](https://github.com/fchollet/keras/blob/master/examples/mnist_cnn.py) for MNIST would be a good example to review."
   ]
  },
  {
   "cell_type": "code",
   "execution_count": 12,
   "metadata": {
    "collapsed": false
   },
   "outputs": [],
   "source": [
    "# TODO: Re-construct the network and add a convolutional layer before the flatten layer.\n",
    "from keras.layers import Convolution2D, MaxPooling2D\n",
    "\n",
    "model = Sequential()\n",
    "\n",
    "model.add(Convolution2D(32, 3, 3, border_mode='valid', input_shape=(32, 32,3)))\n",
    "\n",
    "model.add(Activation('relu'))\n",
    "\n",
    "model.add(Flatten())\n",
    "\n",
    "model.add(Dense(128))\n",
    "\n",
    "model.add(Activation('relu'))\n",
    "\n",
    "model.add(Dense(10))\n",
    "\n",
    "model.add(Activation('softmax'))"
   ]
  },
  {
   "cell_type": "code",
   "execution_count": 14,
   "metadata": {
    "collapsed": false
   },
   "outputs": [
    {
     "name": "stdout",
     "output_type": "stream",
     "text": [
      "Train on 40000 samples, validate on 10000 samples\n",
      "Epoch 1/10\n",
      "40000/40000 [==============================] - 2s - loss: 0.9342 - acc: 0.6742 - val_loss: 1.0987 - val_acc: 0.6141\n",
      "Epoch 2/10\n",
      "40000/40000 [==============================] - 2s - loss: 0.7765 - acc: 0.7324 - val_loss: 1.1462 - val_acc: 0.6045\n",
      "Epoch 3/10\n",
      "40000/40000 [==============================] - 2s - loss: 0.6501 - acc: 0.7771 - val_loss: 1.1238 - val_acc: 0.6262\n",
      "Epoch 4/10\n",
      "40000/40000 [==============================] - 2s - loss: 0.5155 - acc: 0.8256 - val_loss: 1.2052 - val_acc: 0.6195\n",
      "Epoch 5/10\n",
      "40000/40000 [==============================] - 2s - loss: 0.4003 - acc: 0.8691 - val_loss: 1.2747 - val_acc: 0.6207\n",
      "Epoch 6/10\n",
      "40000/40000 [==============================] - 2s - loss: 0.2983 - acc: 0.9069 - val_loss: 1.3584 - val_acc: 0.6225\n",
      "Epoch 7/10\n",
      "40000/40000 [==============================] - 2s - loss: 0.2136 - acc: 0.9372 - val_loss: 1.4841 - val_acc: 0.6254\n",
      "Epoch 8/10\n",
      "40000/40000 [==============================] - 2s - loss: 0.1480 - acc: 0.9608 - val_loss: 1.6480 - val_acc: 0.6151\n",
      "Epoch 9/10\n",
      "40000/40000 [==============================] - 2s - loss: 0.1066 - acc: 0.9733 - val_loss: 1.7595 - val_acc: 0.6123\n",
      "Epoch 10/10\n",
      "40000/40000 [==============================] - 2s - loss: 0.0798 - acc: 0.9819 - val_loss: 1.8765 - val_acc: 0.6117\n",
      "Tests passed.\n"
     ]
    }
   ],
   "source": [
    "# STOP: Do not change the tests below. Your implementation should pass these tests.\n",
    "from keras.layers.core import Dense, Activation, Flatten\n",
    "from keras.layers.convolutional import Convolution2D\n",
    "\n",
    "check_layers([Convolution2D, Activation, Flatten, Dense, Activation, Dense, Activation], model.layers)\n",
    "\n",
    "assert model.layers[0].input_shape == (None, 32, 32, 3), 'First layer input shape is wrong, it should be (32, 32, 3)'\n",
    "assert model.layers[0].nb_filter == 32, 'Wrong number of filters, it should be 32'\n",
    "assert model.layers[0].nb_col == model.layers[0].nb_row == 3, 'Kernel size is wrong, it should be a 3x3'\n",
    "assert model.layers[0].border_mode == 'valid', 'Wrong padding, it should be valid'\n",
    "\n",
    "model.compile('adam', 'categorical_crossentropy', ['accuracy'])\n",
    "history = model.fit(X_normalized, y_one_hot, batch_size=128, nb_epoch=10, validation_split=0.2)\n",
    "print('Tests passed.')"
   ]
  },
  {
   "cell_type": "markdown",
   "metadata": {},
   "source": [
    "## Pooling\n",
    "1. Re-construct the network\n",
    "2. Add a 2x2 [max pooling layer](https://keras.io/layers/pooling/#maxpooling2d) immediately following your convolutional layer."
   ]
  },
  {
   "cell_type": "code",
   "execution_count": 15,
   "metadata": {
    "collapsed": false
   },
   "outputs": [],
   "source": [
    "# TODO: Re-construct the network and add a pooling layer after the convolutional layer.\n",
    "model = Sequential()\n",
    "\n",
    "model.add(Convolution2D(32, 3, 3, border_mode='valid', input_shape=(32, 32,3)))\n",
    "\n",
    "model.add(MaxPooling2D(pool_size=(2, 2)))\n",
    "\n",
    "model.add(Activation('relu'))\n",
    "\n",
    "model.add(Flatten())\n",
    "\n",
    "model.add(Dense(128))\n",
    "\n",
    "model.add(Activation('relu'))\n",
    "\n",
    "model.add(Dense(10))\n",
    "\n",
    "model.add(Activation('softmax'))"
   ]
  },
  {
   "cell_type": "code",
   "execution_count": 17,
   "metadata": {
    "collapsed": false
   },
   "outputs": [
    {
     "name": "stdout",
     "output_type": "stream",
     "text": [
      "Train on 40000 samples, validate on 10000 samples\n",
      "Epoch 1/10\n",
      "40000/40000 [==============================] - 2s - loss: 1.0402 - acc: 0.6376 - val_loss: 1.0935 - val_acc: 0.6167\n",
      "Epoch 2/10\n",
      "40000/40000 [==============================] - 2s - loss: 0.9295 - acc: 0.6764 - val_loss: 1.0604 - val_acc: 0.6292\n",
      "Epoch 3/10\n",
      "40000/40000 [==============================] - 2s - loss: 0.8404 - acc: 0.7084 - val_loss: 1.0391 - val_acc: 0.6400\n",
      "Epoch 4/10\n",
      "40000/40000 [==============================] - 2s - loss: 0.7581 - acc: 0.7367 - val_loss: 1.0268 - val_acc: 0.6466\n",
      "Epoch 5/10\n",
      "40000/40000 [==============================] - 2s - loss: 0.6809 - acc: 0.7655 - val_loss: 1.0138 - val_acc: 0.6598\n",
      "Epoch 6/10\n",
      "40000/40000 [==============================] - 2s - loss: 0.6062 - acc: 0.7917 - val_loss: 1.0236 - val_acc: 0.6574\n",
      "Epoch 7/10\n",
      "40000/40000 [==============================] - 2s - loss: 0.5322 - acc: 0.8185 - val_loss: 1.0318 - val_acc: 0.6602\n",
      "Epoch 8/10\n",
      "40000/40000 [==============================] - 2s - loss: 0.4594 - acc: 0.8472 - val_loss: 1.1026 - val_acc: 0.6494\n",
      "Epoch 9/10\n",
      "40000/40000 [==============================] - 2s - loss: 0.3946 - acc: 0.8692 - val_loss: 1.1455 - val_acc: 0.6514\n",
      "Epoch 10/10\n",
      "40000/40000 [==============================] - 2s - loss: 0.3384 - acc: 0.8908 - val_loss: 1.1780 - val_acc: 0.6579\n",
      "Tests passed.\n"
     ]
    }
   ],
   "source": [
    "# STOP: Do not change the tests below. Your implementation should pass these tests.\n",
    "from keras.layers.core import Dense, Activation, Flatten\n",
    "from keras.layers.convolutional import Convolution2D\n",
    "from keras.layers.pooling import MaxPooling2D\n",
    "\n",
    "check_layers([Convolution2D, MaxPooling2D, Activation, Flatten, Dense, Activation, Dense, Activation], model.layers)\n",
    "assert model.layers[1].pool_size == (2, 2), 'Second layer must be a max pool layer with pool size of 2x2'\n",
    "\n",
    "model.compile('adam', 'categorical_crossentropy', ['accuracy'])\n",
    "history = model.fit(X_normalized, y_one_hot, batch_size=128, nb_epoch=10, validation_split=0.2)\n",
    "print('Tests passed.')"
   ]
  },
  {
   "cell_type": "markdown",
   "metadata": {},
   "source": [
    "## Dropout\n",
    "1. Re-construct the network\n",
    "2. Add a [dropout](https://keras.io/layers/core/#dropout) layer after the pooling layer. Set the dropout rate to 50%."
   ]
  },
  {
   "cell_type": "code",
   "execution_count": 18,
   "metadata": {
    "collapsed": false
   },
   "outputs": [],
   "source": [
    "# TODO: Re-construct the network and add dropout after the pooling layer.\n",
    "from keras.layers import Dropout\n",
    "\n",
    "model = Sequential()\n",
    "\n",
    "model.add(Convolution2D(32, 3, 3, border_mode='valid', input_shape=(32, 32,3)))\n",
    "\n",
    "model.add(MaxPooling2D(pool_size=(2, 2)))\n",
    "\n",
    "model.add(Dropout(0.5))\n",
    "\n",
    "model.add(Activation('relu'))\n",
    "\n",
    "model.add(Flatten())\n",
    "\n",
    "model.add(Dense(128))\n",
    "\n",
    "model.add(Activation('relu'))\n",
    "\n",
    "model.add(Dense(10))\n",
    "\n",
    "model.add(Activation('softmax'))"
   ]
  },
  {
   "cell_type": "code",
   "execution_count": 19,
   "metadata": {
    "collapsed": false
   },
   "outputs": [
    {
     "name": "stdout",
     "output_type": "stream",
     "text": [
      "Train on 40000 samples, validate on 10000 samples\n",
      "Epoch 1/10\n",
      "40000/40000 [==============================] - 2s - loss: 1.5210 - acc: 0.4635 - val_loss: 1.3193 - val_acc: 0.5389\n",
      "Epoch 2/10\n",
      "40000/40000 [==============================] - 2s - loss: 1.2452 - acc: 0.5638 - val_loss: 1.1860 - val_acc: 0.5858\n",
      "Epoch 3/10\n",
      "40000/40000 [==============================] - 2s - loss: 1.1391 - acc: 0.5995 - val_loss: 1.1227 - val_acc: 0.6089\n",
      "Epoch 4/10\n",
      "40000/40000 [==============================] - 2s - loss: 1.0683 - acc: 0.6266 - val_loss: 1.0836 - val_acc: 0.6260\n",
      "Epoch 5/10\n",
      "40000/40000 [==============================] - 2s - loss: 1.0015 - acc: 0.6496 - val_loss: 1.0491 - val_acc: 0.6376\n",
      "Epoch 6/10\n",
      "40000/40000 [==============================] - 2s - loss: 0.9464 - acc: 0.6687 - val_loss: 0.9982 - val_acc: 0.6559\n",
      "Epoch 7/10\n",
      "40000/40000 [==============================] - 2s - loss: 0.8941 - acc: 0.6857 - val_loss: 0.9726 - val_acc: 0.6606\n",
      "Epoch 8/10\n",
      "40000/40000 [==============================] - 2s - loss: 0.8520 - acc: 0.7003 - val_loss: 0.9746 - val_acc: 0.6581\n",
      "Epoch 9/10\n",
      "40000/40000 [==============================] - 2s - loss: 0.8082 - acc: 0.7174 - val_loss: 0.9715 - val_acc: 0.6662\n",
      "Epoch 10/10\n",
      "40000/40000 [==============================] - 2s - loss: 0.7732 - acc: 0.7282 - val_loss: 0.9435 - val_acc: 0.6735\n",
      "Tests passed.\n"
     ]
    }
   ],
   "source": [
    "# STOP: Do not change the tests below. Your implementation should pass these tests.\n",
    "from keras.layers.core import Dense, Activation, Flatten, Dropout\n",
    "from keras.layers.convolutional import Convolution2D\n",
    "from keras.layers.pooling import MaxPooling2D\n",
    "\n",
    "check_layers([Convolution2D, MaxPooling2D, Dropout, Activation, Flatten, Dense, Activation, Dense, Activation], model.layers)\n",
    "assert model.layers[2].p == 0.5, 'Third layer should be a Dropout of 50%'\n",
    "\n",
    "model.compile('adam', 'categorical_crossentropy', ['accuracy'])\n",
    "history = model.fit(X_normalized, y_one_hot, batch_size=128, nb_epoch=10, validation_split=0.2)\n",
    "print('Tests passed.')"
   ]
  },
  {
   "cell_type": "markdown",
   "metadata": {},
   "source": [
    "## Optimization\n",
    "Congratulations! You've built a neural network with convolutions, pooling, dropout, and fully-connected layers, all in just a few lines of code.\n",
    "\n",
    "Have fun with the model and see how well you can do! Add more layers, or regularization, or different padding, or batches, or more training epochs.\n",
    "\n",
    "What is the best validation accuracy you can achieve?"
   ]
  },
  {
   "cell_type": "code",
   "execution_count": 20,
   "metadata": {
    "collapsed": false
   },
   "outputs": [
    {
     "name": "stdout",
     "output_type": "stream",
     "text": [
      "Train on 40000 samples, validate on 10000 samples\n",
      "Epoch 1/10\n",
      "40000/40000 [==============================] - 6s - loss: 1.4843 - acc: 0.4678 - val_loss: 1.2052 - val_acc: 0.5845\n",
      "Epoch 2/10\n",
      "40000/40000 [==============================] - 6s - loss: 1.1170 - acc: 0.6114 - val_loss: 1.0022 - val_acc: 0.6551\n",
      "Epoch 3/10\n",
      "40000/40000 [==============================] - 6s - loss: 0.9597 - acc: 0.6701 - val_loss: 0.9599 - val_acc: 0.6681\n",
      "Epoch 4/10\n",
      "40000/40000 [==============================] - 6s - loss: 0.8420 - acc: 0.7096 - val_loss: 0.9283 - val_acc: 0.6870\n",
      "Epoch 5/10\n",
      "40000/40000 [==============================] - 6s - loss: 0.7338 - acc: 0.7446 - val_loss: 0.9234 - val_acc: 0.6894\n",
      "Epoch 6/10\n",
      "40000/40000 [==============================] - 6s - loss: 0.6242 - acc: 0.7850 - val_loss: 0.9268 - val_acc: 0.6951\n",
      "Epoch 7/10\n",
      "40000/40000 [==============================] - 6s - loss: 0.5210 - acc: 0.8190 - val_loss: 1.0070 - val_acc: 0.6909\n",
      "Epoch 8/10\n",
      "40000/40000 [==============================] - 6s - loss: 0.4261 - acc: 0.8514 - val_loss: 1.0169 - val_acc: 0.6939\n",
      "Epoch 9/10\n",
      "40000/40000 [==============================] - 6s - loss: 0.3363 - acc: 0.8825 - val_loss: 1.1295 - val_acc: 0.6852\n",
      "Epoch 10/10\n",
      "40000/40000 [==============================] - 6s - loss: 0.2775 - acc: 0.9046 - val_loss: 1.2085 - val_acc: 0.6914\n"
     ]
    }
   ],
   "source": [
    "# TODO: Build a model\n",
    "model = Sequential()\n",
    "\n",
    "model.add(Convolution2D(100, 3, 3, border_mode='valid', input_shape=(32, 32,3)))\n",
    "\n",
    "model.add(Activation('tanh'))\n",
    "\n",
    "model.add(MaxPooling2D(pool_size=(2, 2)))\n",
    "\n",
    "model.add(Convolution2D(150, 4, 4, border_mode='valid'))\n",
    "\n",
    "model.add(Activation('tanh'))\n",
    "\n",
    "model.add(MaxPooling2D(pool_size=(2, 2)))\n",
    "\n",
    "model.add(Convolution2D(250, 3, 3, border_mode='valid'))\n",
    "\n",
    "model.add(Activation('tanh'))\n",
    "\n",
    "model.add(MaxPooling2D(pool_size=(2, 2)))\n",
    "\n",
    "model.add(Flatten())\n",
    "\n",
    "model.add(Dense(300))\n",
    "\n",
    "model.add(Activation('tanh'))\n",
    "\n",
    "model.add(Dropout(0.5))\n",
    "\n",
    "model.add(Dense(10))\n",
    "\n",
    "model.add(Activation('softmax'))\n",
    "# TODO: Compile and train the model\n",
    "model.compile('adam', 'categorical_crossentropy', ['accuracy'])\n",
    "history = model.fit(X_normalized, y_one_hot, batch_size=128, nb_epoch=10, validation_split=0.2)"
   ]
  },
  {
   "cell_type": "markdown",
   "metadata": {},
   "source": [
    "**Best Validation Accuracy:** 69.4%"
   ]
  },
  {
   "cell_type": "markdown",
   "metadata": {},
   "source": [
    "## Testing\n",
    "Once you've picked out your best model, it's time to test it.\n",
    "\n",
    "Load up the test data and use the [`evaluate()` method](https://keras.io/models/model/#evaluate) to see how well it does.\n",
    "\n",
    "Hint 1: The `evaluate()` method should return an array of numbers. Use the [`metrics_names`](https://keras.io/models/model/) property to get the labels."
   ]
  },
  {
   "cell_type": "code",
   "execution_count": 23,
   "metadata": {
    "collapsed": false
   },
   "outputs": [
    {
     "name": "stdout",
     "output_type": "stream",
     "text": [
      "10000/10000 [==============================] - 0s     \n"
     ]
    }
   ],
   "source": [
    "\n",
    "# TODO: Preprocess data & one-hot encode the labels\n",
    "X_test, y_test = shuffle(X_test, y_test) # not really needed\n",
    "min_max_range = (-0.5,0.5)\n",
    "x_test_data = normalize_minmax_scale(X_test,min_max_range)\n",
    "Y_test_data = lb.fit_transform(y_test)\n",
    "# TODO: Evaluate model on test data\n",
    "test_score = model.evaluate(x_test_data, Y_test_data)"
   ]
  },
  {
   "cell_type": "code",
   "execution_count": 24,
   "metadata": {
    "collapsed": false
   },
   "outputs": [
    {
     "name": "stdout",
     "output_type": "stream",
     "text": [
      "0.6932\n"
     ]
    }
   ],
   "source": [
    "print(test_score[1])"
   ]
  },
  {
   "cell_type": "markdown",
   "metadata": {},
   "source": [
    "**Test Accuracy:** 69.3%"
   ]
  },
  {
   "cell_type": "markdown",
   "metadata": {},
   "source": [
    "## Summary\n",
    "Keras is a great tool to use if you want to quickly build a neural network and evaluate performance."
   ]
  }
 ],
 "metadata": {
  "anaconda-cloud": {},
  "kernelspec": {
   "display_name": "Python [conda env:py3]",
   "language": "python",
   "name": "conda-env-py3-py"
  },
  "language_info": {
   "codemirror_mode": {
    "name": "ipython",
    "version": 3
   },
   "file_extension": ".py",
   "mimetype": "text/x-python",
   "name": "python",
   "nbconvert_exporter": "python",
   "pygments_lexer": "ipython3",
   "version": "3.5.2"
  }
 },
 "nbformat": 4,
 "nbformat_minor": 0
}
